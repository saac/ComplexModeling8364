{
 "cells": [
  {
   "cell_type": "markdown",
   "id": "983c65cd-8184-4405-937d-6f285d9725c9",
   "metadata": {},
   "source": [
    "# Modelo de Segregación de Schelling (Discreto)"
   ]
  },
  {
   "cell_type": "markdown",
   "id": "cc0258b1-8808-4122-8079-a50fa916c2d3",
   "metadata": {},
   "source": [
    "- Dos diferentes tipos de agentes distribuidos en un espacio finito de dimensión 2.\n",
    "- En cada iteración se elige un agente al azar se ve a sus vecinos y si cierta fracción de ellos son del otro tipo, salta a otro lugar aleatoriamente escogido en el espacio.\n"
   ]
  },
  {
   "cell_type": "markdown",
   "id": "5edb28f8-89fe-4947-9da7-6586ad22922a",
   "metadata": {},
   "source": [
    "## Agente del modelo de Schelling"
   ]
  },
  {
   "cell_type": "code",
   "execution_count": 1,
   "id": "879de802-7a80-48a5-96d2-e6f305be5a78",
   "metadata": {},
   "outputs": [],
   "source": [
    "class AgenteSchelling:\n",
    "    \"\"\"\n",
    "    Agente del modelo de Schelling\n",
    "    Atributos:\n",
    "        tipo/color: \"rojo\" \"azul\"\n",
    "        \n",
    "    \"\"\"\n",
    "    def __init__(self,color,pos, tolerancia):\n",
    "        self.color = color\n",
    "        self.pos = pos\n",
    "        self.tolerancia = tolerancia"
   ]
  },
  {
   "cell_type": "markdown",
   "id": "0456b54d-106a-433e-8b3e-8f21ed1443dd",
   "metadata": {},
   "source": [
    "### Creación de un agente"
   ]
  },
  {
   "cell_type": "code",
   "execution_count": 2,
   "id": "5f342d49-7ab9-49f7-9db0-85b392f86e34",
   "metadata": {},
   "outputs": [],
   "source": [
    "agente1 = AgenteSchelling('red',(0,1),0.6)"
   ]
  },
  {
   "cell_type": "markdown",
   "id": "35d33eb8-77d4-4e90-a90b-dea94923fc56",
   "metadata": {},
   "source": [
    "### Acceder a un atributo del agente"
   ]
  },
  {
   "cell_type": "code",
   "execution_count": 3,
   "id": "fdb30401-18c0-4f94-9439-6108578949f4",
   "metadata": {},
   "outputs": [
    {
     "data": {
      "text/plain": [
       "'red'"
      ]
     },
     "execution_count": 3,
     "metadata": {},
     "output_type": "execute_result"
    }
   ],
   "source": [
    "agente1.color"
   ]
  },
  {
   "cell_type": "code",
   "execution_count": 4,
   "id": "33060b01-aac0-42a2-bb19-d10309f66271",
   "metadata": {},
   "outputs": [
    {
     "data": {
      "text/plain": [
       "(0, 1)"
      ]
     },
     "execution_count": 4,
     "metadata": {},
     "output_type": "execute_result"
    }
   ],
   "source": [
    "agente1.pos"
   ]
  },
  {
   "cell_type": "code",
   "execution_count": 5,
   "id": "242a4ead-c380-437d-84a1-d8e42a5855c6",
   "metadata": {},
   "outputs": [
    {
     "data": {
      "text/plain": [
       "0.6"
      ]
     },
     "execution_count": 5,
     "metadata": {},
     "output_type": "execute_result"
    }
   ],
   "source": [
    "agente1.tolerancia"
   ]
  },
  {
   "cell_type": "markdown",
   "id": "ad4197e9-b9b1-459a-ac32-fc64f24fcf54",
   "metadata": {},
   "source": [
    "### Importamos la clase Agent y Model del modulo Mesa"
   ]
  },
  {
   "cell_type": "code",
   "execution_count": 6,
   "id": "7a428495-11d1-4e2a-afca-fb71092901af",
   "metadata": {},
   "outputs": [],
   "source": [
    "from mesa.space import SingleGrid #MultiGrid, Space"
   ]
  },
  {
   "cell_type": "code",
   "execution_count": 7,
   "id": "9561bee3-c24c-4e41-bc06-b176fe02cf28",
   "metadata": {},
   "outputs": [],
   "source": [
    "from mesa import Agent, Model"
   ]
  },
  {
   "cell_type": "code",
   "execution_count": 16,
   "id": "6d7a2173-58a9-423a-9ca4-431371ccb06b",
   "metadata": {},
   "outputs": [],
   "source": [
    "class AgenteSchelling(Agent):\n",
    "    \"\"\"\n",
    "    Agente del modelo de Schelling\n",
    "    Esta clase implementa un agente para el modelo de segregación de Schelling\n",
    "    Atributos:\n",
    "        tipo/color: \"rojo\" \"azul\"\n",
    "        pos: posición\n",
    "        tolerancia: porcentaje de vecinos al menos iguales al agente\n",
    "        modelo: modelo del \n",
    "        \n",
    "    \"\"\"\n",
    "    def __init__(self,color,pos, tolerancia, model):\n",
    "        # Aqui van los atributos del agente\n",
    "        self.color = color\n",
    "        self.pos = pos\n",
    "        self.tolerancia = tolerancia\n",
    "        self.model  = model\n",
    "        \n",
    "    def step(self):\n",
    "        \n",
    "        #Buscar ccuales son los vecinos\n",
    "        vecinos = self.model.grid.get_neighbors(self.pos, moore=True, include_center=False)\n",
    "        return vecinos\n",
    "#         #Contar cuantos vecinos son iguales\n",
    "#         self.\n",
    "        \n",
    "        \n",
    "class ModeloSchelling(Model):\n",
    "    \"\"\"\n",
    "    Modelo de Schelling\n",
    "    ancho: ancho de la malla\n",
    "    \"\"\"\n",
    "    def __init__(self,ancho,largo):\n",
    "        self.ancho = ancho\n",
    "        self.largo = largo\n",
    "        self.grid = SingleGrid(ancho, largo, torus=True)"
   ]
  },
  {
   "cell_type": "markdown",
   "id": "d22339ec-faed-4fc1-bb40-c3ef4a62b026",
   "metadata": {},
   "source": [
    "### Creamos nuestro modelo"
   ]
  },
  {
   "cell_type": "code",
   "execution_count": 17,
   "id": "14f61e81-64f2-4d76-b745-6c2c81370ef4",
   "metadata": {},
   "outputs": [
    {
     "name": "stdout",
     "output_type": "stream",
     "text": [
      "10\n",
      "10\n"
     ]
    }
   ],
   "source": [
    "modelo_prueba = ModeloSchelling(10,10)\n",
    "\n",
    "# Atributos del modelo\n",
    "print(modelo_juguete.ancho)\n",
    "print(modelo_juguete.largo)"
   ]
  },
  {
   "cell_type": "code",
   "execution_count": 18,
   "id": "819f2ec5-0897-4029-ba4b-072abfc035c8",
   "metadata": {},
   "outputs": [
    {
     "name": "stdout",
     "output_type": "stream",
     "text": [
      "rojo\n",
      "(0, 0)\n",
      "0.4\n"
     ]
    }
   ],
   "source": [
    "agente1 = AgenteSchelling('rojo',(0,0), 0.4,modelo_prueba)\n",
    "\n",
    "# Atributos del agente\n",
    "print(agente1.color)\n",
    "print(agente1.pos)\n",
    "print(agente1.tolerancia)"
   ]
  },
  {
   "cell_type": "markdown",
   "id": "14b7f55b-3cce-417b-83d0-f2401408ac12",
   "metadata": {},
   "source": [
    "### Muestrar la malla"
   ]
  },
  {
   "cell_type": "code",
   "execution_count": 22,
   "id": "cc26867b-61a5-499a-837c-269b74ba99b3",
   "metadata": {},
   "outputs": [
    {
     "data": {
      "text/plain": [
       "[[None, None, None, None, None, None, None, None, None, None],\n",
       " [None, None, None, None, None, None, None, None, None, None],\n",
       " [None, None, None, None, None, None, None, None, None, None],\n",
       " [None, None, None, None, None, None, None, None, None, None],\n",
       " [None, None, None, None, None, None, None, None, None, None],\n",
       " [None, None, None, None, None, None, None, None, None, None],\n",
       " [None, None, None, None, None, None, None, None, None, None],\n",
       " [None, None, None, None, None, None, None, None, None, None],\n",
       " [None, None, None, None, None, None, None, None, None, None],\n",
       " [None, None, None, None, None, None, None, None, None, None]]"
      ]
     },
     "execution_count": 22,
     "metadata": {},
     "output_type": "execute_result"
    }
   ],
   "source": [
    "modelo_prueba.grid.grid"
   ]
  }
 ],
 "metadata": {
  "kernelspec": {
   "display_name": "Python 3 (ipykernel)",
   "language": "python",
   "name": "python3"
  },
  "language_info": {
   "codemirror_mode": {
    "name": "ipython",
    "version": 3
   },
   "file_extension": ".py",
   "mimetype": "text/x-python",
   "name": "python",
   "nbconvert_exporter": "python",
   "pygments_lexer": "ipython3",
   "version": "3.9.6"
  }
 },
 "nbformat": 4,
 "nbformat_minor": 5
}
