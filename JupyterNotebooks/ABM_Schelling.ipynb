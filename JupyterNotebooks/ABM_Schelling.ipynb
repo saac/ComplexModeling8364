{
 "cells": [
  {
   "cell_type": "markdown",
   "id": "983c65cd-8184-4405-937d-6f285d9725c9",
   "metadata": {},
   "source": [
    "# Modelo de Segregación de Schelling (Discreto)"
   ]
  },
  {
   "cell_type": "markdown",
   "id": "1a322530-290f-4cf1-a4a3-0e2a98764301",
   "metadata": {},
   "source": [
    "### Reglas\n"
   ]
  },
  {
   "cell_type": "markdown",
   "id": "cc0258b1-8808-4122-8079-a50fa916c2d3",
   "metadata": {},
   "source": [
    "- Dos diferentes tipos de agentes distribuidos en un espacio finito de dimensión 2.\n",
    "- En cada iteración se elige un agente al azar se ve a sus vecinos y si cierta fracción de ellos son del otro tipo, salta a otro lugar aleatoriamente escogido en el espacio.\n"
   ]
  },
  {
   "cell_type": "markdown",
   "id": "5edb28f8-89fe-4947-9da7-6586ad22922a",
   "metadata": {
    "tags": []
   },
   "source": [
    "## Agente del modelo de Schelling"
   ]
  },
  {
   "cell_type": "markdown",
   "id": "03e6af64-4fcb-4fb1-9be8-0787fcede665",
   "metadata": {},
   "source": [
    "Creamos una clase para el agente. En el `__init__` definimos las propiedades internas de cada agente "
   ]
  },
  {
   "cell_type": "code",
   "execution_count": 1,
   "id": "879de802-7a80-48a5-96d2-e6f305be5a78",
   "metadata": {},
   "outputs": [],
   "source": [
    "class AgenteSchelling:\n",
    "    \"\"\"\n",
    "    Agente del modelo de Schelling Discreto\n",
    "    Esta clase implementa un agente para el modelo de segregación de Schelling en una malla discreta.\n",
    "    Atributos:\n",
    "        tipo/color: \"rojo\" \"azul\". Str.\n",
    "        pos: posición del agente. Tupla de enteros.\n",
    "        tolerancia: porcentaje de vecinos al menos iguales al agente. Float.        \n",
    "    \"\"\"\n",
    "    def __init__(self,color,pos, tolerancia):\n",
    "        self.color = color\n",
    "        self.pos = pos\n",
    "        self.tolerancia = tolerancia"
   ]
  },
  {
   "cell_type": "markdown",
   "id": "0456b54d-106a-433e-8b3e-8f21ed1443dd",
   "metadata": {},
   "source": [
    "#### Creamos un agente a partir de nuestra clase definida arriba"
   ]
  },
  {
   "cell_type": "code",
   "execution_count": 2,
   "id": "5f342d49-7ab9-49f7-9db0-85b392f86e34",
   "metadata": {},
   "outputs": [],
   "source": [
    "agente1 = AgenteSchelling('red',(0,1),0.6)"
   ]
  },
  {
   "cell_type": "markdown",
   "id": "35d33eb8-77d4-4e90-a90b-dea94923fc56",
   "metadata": {},
   "source": [
    "#### A través del punto (.) podemos acceder a los atributos de nuestra clase agente"
   ]
  },
  {
   "cell_type": "code",
   "execution_count": 109,
   "id": "9b8a5a65-db23-4900-b3a1-14a13b73f51d",
   "metadata": {},
   "outputs": [
    {
     "name": "stdout",
     "output_type": "stream",
     "text": [
      "rojo\n",
      "(0, 0)\n",
      "0.4\n"
     ]
    }
   ],
   "source": [
    "print(agente1.color)\n",
    "print(agente1.pos)\n",
    "print(agente1.tolerancia)"
   ]
  },
  {
   "cell_type": "markdown",
   "id": "4dfaa4c4-cb16-4172-a9ff-882b366139b7",
   "metadata": {},
   "source": [
    "## Importamos la clase Agent y Model del modulo `mesa`"
   ]
  },
  {
   "cell_type": "markdown",
   "id": "f446ba4b-b78f-4a51-ad92-887dd898afe8",
   "metadata": {},
   "source": [
    "Utilizaremos la ventajas de la OOP (programación orientada a objetos) y creamos una clase secundaria a partir de la clase `Agent`  de `mesa`."
   ]
  },
  {
   "cell_type": "code",
   "execution_count": 3,
   "id": "72708220-9ec9-4b8f-85f6-eb232d96b200",
   "metadata": {},
   "outputs": [],
   "source": [
    "from mesa import Agent, Model"
   ]
  },
  {
   "cell_type": "code",
   "execution_count": 14,
   "id": "8d3fedce-9034-436e-91f7-0de19a254b7e",
   "metadata": {
    "tags": []
   },
   "outputs": [],
   "source": [
    "class AgenteSchelling(Agent):\n",
    "    \"\"\"\n",
    "    Agente del modelo de Schelling\n",
    "    Esta clase implementa un agente para el modelo de segregación de Schelling en una malla discreta.\n",
    "    Atributos:\n",
    "        tipo/color: \"rojo\" \"azul\". Str.\n",
    "        pos: posición del agente. Tupla de enteros.\n",
    "        tolerancia: porcentaje de vecinos al menos iguales al agente. Float.\n",
    "        modelo: Nuestro clase modelo. Modelo mesa.\n",
    "    \"\"\"\n",
    "    def __init__(self,color,pos, tolerancia, model):\n",
    "        # Aqui van los atributos del agente\n",
    "        self.color = color\n",
    "        self.pos = pos\n",
    "        self.tolerancia = tolerancia\n",
    "        self.model  = model\n",
    "        "
   ]
  },
  {
   "cell_type": "markdown",
   "id": "734226d3-c405-4386-8b60-36ab379c9fff",
   "metadata": {},
   "source": [
    "También creamos una clase secundaria para nuestro modelo a partir de la clase `Model`  de `mesa`."
   ]
  },
  {
   "cell_type": "code",
   "execution_count": 14,
   "id": "6cccc66d-3663-459c-8c3a-69f14b42a9c3",
   "metadata": {
    "tags": []
   },
   "outputs": [],
   "source": [
    "class ModeloSchelling(Model):\n",
    "    \"\"\"\n",
    "    Modelo de Schelling,\n",
    "    Esta clase implementa el modelo de segregación de Schelling en una malla discreta.\n",
    "\n",
    "    ancho: ancho de la malla. Int\n",
    "    largo: largo de la malla. Int\n",
    "    \"\"\"\n",
    "    def __init__(self,ancho,largo):\n",
    "        self.ancho = ancho\n",
    "        self.largo = largo"
   ]
  },
  {
   "cell_type": "markdown",
   "id": "ad4197e9-b9b1-459a-ac32-fc64f24fcf54",
   "metadata": {},
   "source": [
    "## Definimos el espacio donde se van a mover los agentes"
   ]
  },
  {
   "cell_type": "markdown",
   "id": "94b91344-4635-49fc-835c-338511a999f2",
   "metadata": {},
   "source": [
    "`mesa.space` contiene diferentes tipos de mallas donde se moverán los agentes:  `Single, MultiGrid, ContinouosSpace, HexGrid, NetworkGrid.`\n",
    "`SingleGrid` permite colocar solo un agente en cada posición de la malla"
   ]
  },
  {
   "cell_type": "code",
   "execution_count": 4,
   "id": "7a428495-11d1-4e2a-afca-fb71092901af",
   "metadata": {},
   "outputs": [],
   "source": [
    "from mesa.space import SingleGrid "
   ]
  },
  {
   "cell_type": "code",
   "execution_count": 14,
   "id": "6d7a2173-58a9-423a-9ca4-431371ccb06b",
   "metadata": {
    "tags": []
   },
   "outputs": [],
   "source": [
    "class AgenteSchelling(Agent):\n",
    "    \"\"\"\n",
    "    Agente del modelo de Schelling\n",
    "    Esta clase implementa un agente para el modelo de segregación de Schelling en una malla discreta.\n",
    "    Atributos:\n",
    "        tipo/color: \"rojo\" \"azul\". Str.\n",
    "        pos: posición del agente. Tupla de enteros.\n",
    "        tolerancia: porcentaje de vecinos al menos iguales al del agente. Float.\n",
    "        modelo: Nuestro clase modelo. Modelo mesa.\n",
    "    \"\"\"\n",
    "    def __init__(self,color,pos, tolerancia, model):\n",
    "        # Aqui van los atributos del agente\n",
    "        self.color = color\n",
    "        self.pos = pos\n",
    "        self.tolerancia = tolerancia\n",
    "        self.model  = model\n",
    "        \n",
    "class ModeloSchelling(Model):\n",
    "    \"\"\"\n",
    "    Modelo de Schelling,\n",
    "    Esta clase implementa el modelo de segregación de Schelling en una malla discreta.\n",
    "\n",
    "    ancho: ancho de la malla. Int\n",
    "    largo: largo de la malla. Int\n",
    "    \"\"\"\n",
    "    def __init__(self,ancho,largo):\n",
    "        self.ancho = ancho\n",
    "        self.largo = largo\n",
    "        # Con torus=True le decimos que active la topología en forma de toroide\n",
    "        self.grid = SingleGrid(ancho, largo, torus= True)"
   ]
  },
  {
   "cell_type": "markdown",
   "id": "d22339ec-faed-4fc1-bb40-c3ef4a62b026",
   "metadata": {},
   "source": [
    "#### Inicializamos el modelo"
   ]
  },
  {
   "cell_type": "code",
   "execution_count": 17,
   "id": "14f61e81-64f2-4d76-b745-6c2c81370ef4",
   "metadata": {},
   "outputs": [
    {
     "name": "stdout",
     "output_type": "stream",
     "text": [
      "10\n",
      "10\n"
     ]
    }
   ],
   "source": [
    "modelo_prueba = ModeloSchelling(10,10)\n",
    "\n",
    "# Atributos del modelo\n",
    "print(modelo_prueba.ancho)\n",
    "print(modelo_prueba.largo)"
   ]
  },
  {
   "cell_type": "markdown",
   "id": "f2cc0e30-5583-4dfd-bfd0-d001c9864b1f",
   "metadata": {},
   "source": [
    "#### Inicializamos un agente"
   ]
  },
  {
   "cell_type": "code",
   "execution_count": 11,
   "id": "819f2ec5-0897-4029-ba4b-072abfc035c8",
   "metadata": {},
   "outputs": [
    {
     "name": "stdout",
     "output_type": "stream",
     "text": [
      "rojo\n",
      "(0, 0)\n",
      "0.4\n"
     ]
    }
   ],
   "source": [
    "agente1 = AgenteSchelling('rojo',(0,0), 0.4,modelo_prueba)\n",
    "\n",
    "# Atributos del agente\n",
    "print(agente1.color)\n",
    "print(agente1.pos)\n",
    "print(agente1.tolerancia)"
   ]
  },
  {
   "cell_type": "markdown",
   "id": "14b7f55b-3cce-417b-83d0-f2401408ac12",
   "metadata": {},
   "source": [
    "#### Podemos acceder a la malla"
   ]
  },
  {
   "cell_type": "code",
   "execution_count": 18,
   "id": "cc26867b-61a5-499a-837c-269b74ba99b3",
   "metadata": {},
   "outputs": [
    {
     "data": {
      "text/plain": [
       "[[None, None, None, None, None, None, None, None, None, None],\n",
       " [None, None, None, None, None, None, None, None, None, None],\n",
       " [None, None, None, None, None, None, None, None, None, None],\n",
       " [None, None, None, None, None, None, None, None, None, None],\n",
       " [None, None, None, None, None, None, None, None, None, None],\n",
       " [None, None, None, None, None, None, None, None, None, None],\n",
       " [None, None, None, None, None, None, None, None, None, None],\n",
       " [None, None, None, None, None, None, None, None, None, None],\n",
       " [None, None, None, None, None, None, None, None, None, None],\n",
       " [None, None, None, None, None, None, None, None, None, None]]"
      ]
     },
     "execution_count": 18,
     "metadata": {},
     "output_type": "execute_result"
    }
   ],
   "source": [
    "modelo_prueba.grid.grid"
   ]
  },
  {
   "cell_type": "markdown",
   "id": "d2d4c8fd-5dc0-44b9-9293-dbd3e593d52d",
   "metadata": {},
   "source": [
    "#### Con `.find_empty` podemos encontrar posciones en la malla que estén vacías"
   ]
  },
  {
   "cell_type": "code",
   "execution_count": 21,
   "id": "008bb316-4f33-4f4b-8ae2-d33415d85080",
   "metadata": {},
   "outputs": [
    {
     "data": {
      "text/plain": [
       "(2, 9)"
      ]
     },
     "execution_count": 21,
     "metadata": {},
     "output_type": "execute_result"
    }
   ],
   "source": [
    "modelo_prueba.grid.find_empty()"
   ]
  },
  {
   "cell_type": "markdown",
   "id": "b5bbd495-54c6-413c-ba4a-22ba3a09a94f",
   "metadata": {},
   "source": [
    "## Definimos la regla que obecede cada agente"
   ]
  },
  {
   "cell_type": "markdown",
   "id": "9a1f88f2-f6ca-4240-b33f-58e735d9eb6a",
   "metadata": {},
   "source": [
    "Dentro de nuestra clase `AgenteSchelling` se define un método que llamado `step()` en el cual se programará las regla que siguen los agentes."
   ]
  },
  {
   "cell_type": "code",
   "execution_count": 35,
   "id": "198f7a7e-cb51-4e5e-a02b-34b2cbbe045c",
   "metadata": {},
   "outputs": [],
   "source": [
    "class AgenteSchelling(Agent):\n",
    "    \"\"\"\n",
    "    Agente del modelo de Schelling\n",
    "    Esta clase implementa un agente para el modelo de segregación de Schelling en una malla discreta.\n",
    "    Atributos:\n",
    "        tipo/color: \"rojo\" \"azul\". Str.\n",
    "        pos: posición del agente. Tupla de enteros.\n",
    "        tolerancia: porcentaje de vecinos al menos iguales al del agente. Float.\n",
    "        modelo: Nuestro clase modelo. Modelo mesa.\n",
    "        \n",
    "    \"\"\"\n",
    "    def __init__(self,color,pos, tolerancia, model):\n",
    "        # Aqui van los atributos del agente\n",
    "        self.color = color\n",
    "        self.pos = pos\n",
    "        self.tolerancia = tolerancia\n",
    "        self.model  = model\n",
    "        \n",
    "    def step(self):\n",
    "        #Buscar si hay algún otro agente en su vecindad cercana. Para el modelo de segregación utilizamos una vecindad de Moore\n",
    "        vecinos = self.model.grid.get_neighbors(self.pos, moore=True, include_center=False)\n",
    "        \n",
    "        # Contamos cuantos agentes vecinos son similares a nuestro agente\n",
    "        vecindad = 0\n",
    "        for i in vecinos:\n",
    "            if i.color == self.color:\n",
    "                vecindad += 1 # vecindad = vecindad + 1\n",
    "                \n",
    "        vecindad /= 8 # vecindad =  vecindad / 8         \n",
    "        \n",
    "        # Si el porcentaje de vecinos es menor a cierto porcentaje de tolerancia,\n",
    "        # el agente se mueve a un lugar vacío\n",
    "        if vecindad < self.tolerancia:\n",
    "            self.model.grid.move_to_empty(self)\n",
    "        "
   ]
  },
  {
   "cell_type": "markdown",
   "id": "6c1470fe-df25-48f7-81d4-8694343c8b73",
   "metadata": {},
   "source": [
    "## Definimos la configuración inicial del modelo"
   ]
  },
  {
   "cell_type": "code",
   "execution_count": 25,
   "id": "3ab6a3b9-480a-43cc-b69d-25e3faa57aed",
   "metadata": {},
   "outputs": [],
   "source": [
    "class ModeloSchelling(Model):\n",
    "    \"\"\"\n",
    "    Modelo de Schelling,\n",
    "    Esta clase implementa el modelo de segregación de Schelling en una malla discreta.\n",
    "\n",
    "    ancho: ancho de la malla. Int\n",
    "    largo: largo de la malla. Int\n",
    "    cantidad: número de agentes que colocaremos en la malla. Int\n",
    "    \"\"\"\n",
    "    def __init__(self,ancho,largo, cantidad):\n",
    "        self.ancho = ancho\n",
    "        self.largo = largo\n",
    "        # Con torus=True le decimos que active la topología en forma de toroide\n",
    "        self.grid = SingleGrid(ancho, largo, torus= True)\n",
    "        self.cantidad = cantidad\n",
    "        tolerancia = 0.4\n",
    "        colores = [\"red\", \"blue\"]\n",
    "        \n",
    "        for i in range(cantidad):\n",
    "            color = self.random.choice(colores)\n",
    "            pos = self.grid.find_empty()\n",
    "            agente = AgenteSchelling(color,pos,tolerancia, self )\n",
    "            # Después de crear el agente tenemos que colocarlo en la malla\n",
    "            self.grid.place_agent(agente, pos)"
   ]
  },
  {
   "cell_type": "markdown",
   "id": "e85e43dc-e972-40a7-9c2c-a45959ac08be",
   "metadata": {},
   "source": [
    "#### Inicializamos el modelo"
   ]
  },
  {
   "cell_type": "code",
   "execution_count": 26,
   "id": "3c5d5688-8e11-4efc-a06a-761fb8a202ab",
   "metadata": {},
   "outputs": [],
   "source": [
    "modelo_prueba = ModeloSchelling(10,10,2)"
   ]
  },
  {
   "cell_type": "markdown",
   "id": "d39d4535-eff6-474c-a520-f5a06f0af2b6",
   "metadata": {},
   "source": [
    "#### Podemos acceder a la malla y saber que posciones ocupan los agentes en el espacio"
   ]
  },
  {
   "cell_type": "code",
   "execution_count": 27,
   "id": "fe780e66-6545-4b77-8529-542110bae487",
   "metadata": {},
   "outputs": [
    {
     "data": {
      "text/plain": [
       "[[None, None, None, None, None, None, None, None, None, None],\n",
       " [None, None, None, None, None, None, None, None, None, None],\n",
       " [None, None, None, None, None, None, None, None, None, None],\n",
       " [None, None, None, None, None, None, None, None, None, None],\n",
       " [None, None, None, None, None, None, None, None, None, None],\n",
       " [None, None, None, None, None, None, None, None, None, None],\n",
       " [None, None, None, None, None, None, None, None, None, None],\n",
       " [None, None, None, None, None, None, None, None, None, None],\n",
       " [None,\n",
       "  None,\n",
       "  None,\n",
       "  None,\n",
       "  None,\n",
       "  None,\n",
       "  None,\n",
       "  <__main__.AgenteSchelling at 0x7fcaaca66280>,\n",
       "  None,\n",
       "  None],\n",
       " [None,\n",
       "  None,\n",
       "  None,\n",
       "  None,\n",
       "  None,\n",
       "  None,\n",
       "  None,\n",
       "  None,\n",
       "  None,\n",
       "  <__main__.AgenteSchelling at 0x7fcaaca66640>]]"
      ]
     },
     "execution_count": 27,
     "metadata": {},
     "output_type": "execute_result"
    }
   ],
   "source": [
    "modelo_prueba.grid.grid"
   ]
  },
  {
   "cell_type": "markdown",
   "id": "7935ea2e-d87e-4d4c-b9a2-9c4947dd74c1",
   "metadata": {},
   "source": [
    "#### Colocándonos en la posición del agente dentro de la malla podemos acceder a los atributos del agente"
   ]
  },
  {
   "cell_type": "code",
   "execution_count": 31,
   "id": "8984401d-6143-4972-abd7-322448be7011",
   "metadata": {},
   "outputs": [
    {
     "data": {
      "text/plain": [
       "'blue'"
      ]
     },
     "execution_count": 31,
     "metadata": {},
     "output_type": "execute_result"
    }
   ],
   "source": [
    "modelo_prueba.grid.grid[9][9].color"
   ]
  },
  {
   "cell_type": "markdown",
   "id": "6919dcc6-eee1-4fcf-831c-5a8e7f011bee",
   "metadata": {},
   "source": [
    "### ¿En qué orden vamos a activar los agentes en cada iteración?"
   ]
  },
  {
   "cell_type": "markdown",
   "id": "adbdeb09-1326-42b8-8339-b0b20348f345",
   "metadata": {},
   "source": [
    "`mesa.time` contiene tres diferentes activación:  `BasedScheduler, RandomActivation, SimultaneousActivation, StagedActivation`\n",
    "Con`RandomActivation` el orden de los agentes es aleatorio en cada iteracción o paso."
   ]
  },
  {
   "cell_type": "code",
   "execution_count": 5,
   "id": "9ee4b20b-437e-4250-b127-55a0c76e7472",
   "metadata": {},
   "outputs": [],
   "source": [
    "from mesa.time import RandomActivation "
   ]
  },
  {
   "cell_type": "code",
   "execution_count": 93,
   "id": "c559354d-6c1d-411a-9209-bddbd5655364",
   "metadata": {},
   "outputs": [],
   "source": [
    "class ModeloSchelling(Model):\n",
    "    \"\"\"\n",
    "    Modelo de Schelling,\n",
    "    Esta clase implementa el modelo de segregación de Schelling en una malla discreta.\n",
    "\n",
    "    ancho: ancho de la malla. Int\n",
    "    largo: largo de la malla. Int\n",
    "    cantidad: número de agentes que colocaremos en la malla. Int\n",
    "    \"\"\"\n",
    "    def __init__(self,ancho,largo, cantidad):\n",
    "        self.ancho = ancho\n",
    "        self.largo = largo\n",
    "        # Activamos el orden aleatorio\n",
    "        self.schedule = RandomActivation(self)\n",
    "        self.grid = SingleGrid(ancho, largo, torus= True)\n",
    "        self.cantidad = cantidad\n",
    "        tolerancia = 0.4\n",
    "        colores = [\"red\", \"blue\"]\n",
    "        \n",
    "        for i in range(cantidad):\n",
    "            color = self.random.choice(colores)\n",
    "            pos = self.grid.find_empty()\n",
    "            agente = AgenteSchelling(color,pos,tolerancia,self)\n",
    "            # Después de crear el agente tenemos que colocarlo en la malla\n",
    "            self.grid.place_agent(agente, pos)\n",
    "            # De igual forma una vez creado el agente tenemos que 'agendarlo'\n",
    "            self.schedule.add(agente)\n",
    "    def step(self):\n",
    "        # Avanza un paso en el tiempo.\n",
    "        self.schedule.step()"
   ]
  },
  {
   "cell_type": "markdown",
   "id": "fa225fb9-1e51-4078-a1e6-794fff6639dc",
   "metadata": {},
   "source": [
    "#### Inicializamos el modelo"
   ]
  },
  {
   "cell_type": "code",
   "execution_count": 95,
   "id": "ccbe9207-9f05-498c-9e1f-fcf665c6ffe2",
   "metadata": {
    "tags": []
   },
   "outputs": [
    {
     "ename": "AttributeError",
     "evalue": "'AgenteSchelling' object has no attribute 'unique_id'",
     "output_type": "error",
     "traceback": [
      "\u001b[0;31m---------------------------------------------------------------------------\u001b[0m",
      "\u001b[0;31mAttributeError\u001b[0m                            Traceback (most recent call last)",
      "\u001b[0;32m/tmp/ipykernel_1032/3896989088.py\u001b[0m in \u001b[0;36m<module>\u001b[0;34m\u001b[0m\n\u001b[0;32m----> 1\u001b[0;31m \u001b[0mmodelo_p1\u001b[0m \u001b[0;34m=\u001b[0m \u001b[0mModeloSchelling\u001b[0m\u001b[0;34m(\u001b[0m\u001b[0;36m10\u001b[0m\u001b[0;34m,\u001b[0m\u001b[0;36m10\u001b[0m\u001b[0;34m,\u001b[0m\u001b[0;36m70\u001b[0m\u001b[0;34m)\u001b[0m\u001b[0;34m\u001b[0m\u001b[0;34m\u001b[0m\u001b[0m\n\u001b[0m",
      "\u001b[0;32m/tmp/ipykernel_1032/1392011523.py\u001b[0m in \u001b[0;36m__init__\u001b[0;34m(self, ancho, largo, cantidad)\u001b[0m\n\u001b[1;32m     18\u001b[0m             \u001b[0magente\u001b[0m \u001b[0;34m=\u001b[0m \u001b[0mAgenteSchelling\u001b[0m\u001b[0;34m(\u001b[0m\u001b[0mcolor\u001b[0m\u001b[0;34m,\u001b[0m\u001b[0mpos\u001b[0m\u001b[0;34m,\u001b[0m\u001b[0mtolerancia\u001b[0m\u001b[0;34m,\u001b[0m\u001b[0mself\u001b[0m\u001b[0;34m)\u001b[0m\u001b[0;34m\u001b[0m\u001b[0;34m\u001b[0m\u001b[0m\n\u001b[1;32m     19\u001b[0m             \u001b[0mself\u001b[0m\u001b[0;34m.\u001b[0m\u001b[0mgrid\u001b[0m\u001b[0;34m.\u001b[0m\u001b[0mplace_agent\u001b[0m\u001b[0;34m(\u001b[0m\u001b[0magente\u001b[0m\u001b[0;34m,\u001b[0m \u001b[0mpos\u001b[0m\u001b[0;34m)\u001b[0m\u001b[0;34m\u001b[0m\u001b[0;34m\u001b[0m\u001b[0m\n\u001b[0;32m---> 20\u001b[0;31m             \u001b[0mself\u001b[0m\u001b[0;34m.\u001b[0m\u001b[0mschedule\u001b[0m\u001b[0;34m.\u001b[0m\u001b[0madd\u001b[0m\u001b[0;34m(\u001b[0m\u001b[0magente\u001b[0m\u001b[0;34m)\u001b[0m\u001b[0;34m\u001b[0m\u001b[0;34m\u001b[0m\u001b[0m\n\u001b[0m\u001b[1;32m     21\u001b[0m     \u001b[0;32mdef\u001b[0m \u001b[0mstep\u001b[0m\u001b[0;34m(\u001b[0m\u001b[0mself\u001b[0m\u001b[0;34m)\u001b[0m\u001b[0;34m:\u001b[0m\u001b[0;34m\u001b[0m\u001b[0;34m\u001b[0m\u001b[0m\n\u001b[1;32m     22\u001b[0m         \u001b[0mself\u001b[0m\u001b[0;34m.\u001b[0m\u001b[0mschedule\u001b[0m\u001b[0;34m.\u001b[0m\u001b[0mstep\u001b[0m\u001b[0;34m(\u001b[0m\u001b[0;34m)\u001b[0m\u001b[0;34m\u001b[0m\u001b[0;34m\u001b[0m\u001b[0m\n",
      "\u001b[0;32m~/Nube/miniconda3/envs/mesa/lib/python3.9/site-packages/mesa/time.py\u001b[0m in \u001b[0;36madd\u001b[0;34m(self, agent)\u001b[0m\n\u001b[1;32m     61\u001b[0m         \"\"\"\n\u001b[1;32m     62\u001b[0m \u001b[0;34m\u001b[0m\u001b[0m\n\u001b[0;32m---> 63\u001b[0;31m         \u001b[0;32mif\u001b[0m \u001b[0magent\u001b[0m\u001b[0;34m.\u001b[0m\u001b[0munique_id\u001b[0m \u001b[0;32min\u001b[0m \u001b[0mself\u001b[0m\u001b[0;34m.\u001b[0m\u001b[0m_agents\u001b[0m\u001b[0;34m:\u001b[0m\u001b[0;34m\u001b[0m\u001b[0;34m\u001b[0m\u001b[0m\n\u001b[0m\u001b[1;32m     64\u001b[0m             raise Exception(\n\u001b[1;32m     65\u001b[0m                 \"Agent with unique id {0} already added to scheduler\".format(\n",
      "\u001b[0;31mAttributeError\u001b[0m: 'AgenteSchelling' object has no attribute 'unique_id'"
     ]
    }
   ],
   "source": [
    "modelo_p1 = ModeloSchelling(10,10,70)"
   ]
  },
  {
   "cell_type": "markdown",
   "id": "cbafab69-2188-474d-992a-8bac35c98a7c",
   "metadata": {},
   "source": [
    "Nos marca un error. Esto se debe a que la clase raíz `Agent`, en la que basaremos nuestros agentes, necesita como argumentos un _identificador único_ y el _modelo_ como argumentos para inicializar un agente. Además queremos inicializar los valores en la clase raíz, por lo que utilizamos `super().__init__(unique_id,model)` así que modificamos los argumentos del constructor de la clase `AgenteSchelling` además donde creamos los agentes dentro del modelo `ModeloSchelling`\n"
   ]
  },
  {
   "cell_type": "code",
   "execution_count": 35,
   "id": "93463ae8-1f4f-45f4-a0c7-34d443a4072c",
   "metadata": {},
   "outputs": [],
   "source": [
    "class AgenteSchelling(Agent):\n",
    "    \"\"\"\n",
    "    Agente del modelo de Schelling\n",
    "    Esta clase implementa un agente para el modelo de segregación de Schelling en una malla discreta.\n",
    "    Atributos:\n",
    "        tipo/color: \"rojo\" \"azul\". Str.\n",
    "        pos: posición del agente. Tupla de enteros.\n",
    "        tolerancia: porcentaje de vecinos al menos iguales al del agente. Float.\n",
    "        modelo: Nuestro clase modelo. Modelo mesa.\n",
    "        \n",
    "    \"\"\"\n",
    "    def __init__(self,unique_id, model,color,pos, tolerancia):\n",
    "        # Aqui van los atributos del agente\n",
    "        super().__init__(unique_id,model)\n",
    "        self.color = color\n",
    "        self.pos = pos\n",
    "        self.tolerancia = tolerancia\n",
    "        self.model  = model\n",
    "        \n",
    "    def step(self):\n",
    "        #Buscar si hay algún otro agente en su vecindad cercana. Para el modelo de segregación utilizamos una vecindad de Moore\n",
    "        vecinos = self.model.grid.get_neighbors(self.pos, moore=True, include_center=False)\n",
    "        \n",
    "        # Contamos cuantos agentes vecinos son similares a nuestro agente\n",
    "        vecindad = 0\n",
    "        for i in vecinos:\n",
    "            if i.color == self.color:\n",
    "                vecindad += 1 # vecindad = vecindad + 1\n",
    "                \n",
    "        vecindad /= 8 # vecindad =  vecindad / 8         \n",
    "        \n",
    "        # Si el porcentaje de vecinos es menor a cierto porcentaje de tolerancia,\n",
    "        # el agente se mueve a un lugar vacío\n",
    "        if vecindad < self.tolerancia:\n",
    "            self.model.grid.move_to_empty(self)\n",
    "        "
   ]
  },
  {
   "cell_type": "code",
   "execution_count": 93,
   "id": "72b22ef2-32f2-4d1e-a730-4d806ea5355b",
   "metadata": {},
   "outputs": [],
   "source": [
    "class ModeloSchelling(Model):\n",
    "    \"\"\"\n",
    "    Modelo de Schelling,\n",
    "    Esta clase implementa el modelo de segregación de Schelling en una malla discreta.\n",
    "\n",
    "    ancho: ancho de la malla. Int\n",
    "    largo: largo de la malla. Int\n",
    "    cantidad: número de agentes que colocaremos en la malla. Int\n",
    "    \"\"\"\n",
    "    def __init__(self,ancho,largo, cantidad):\n",
    "        self.ancho = ancho\n",
    "        self.largo = largo\n",
    "        # Activamos el orden aleatorio\n",
    "        self.schedule = RandomActivation(self)\n",
    "        self.grid = SingleGrid(ancho, largo, torus= True)\n",
    "        self.cantidad = cantidad\n",
    "        tolerancia = 0.4\n",
    "        colores = [\"red\", \"blue\"]\n",
    "        \n",
    "        for i in range(cantidad):\n",
    "            color = self.random.choice(colores)\n",
    "            pos = self.grid.find_empty()\n",
    "            agente = AgenteSchelling(i,self, color,pos,tolerancia)\n",
    "            # Después de crear el agente tenemos que colocarlo en la malla\n",
    "            self.grid.place_agent(agente, pos)\n",
    "            # De igual forma una vez creado el agente tenemos que 'agendarlo'\n",
    "            self.schedule.add(agente)\n",
    "    def step(self):\n",
    "        # Avanza un paso en el tiempo.\n",
    "        self.schedule.step()"
   ]
  },
  {
   "cell_type": "markdown",
   "id": "6f20e986-3702-46bc-9bd9-21e9367f165a",
   "metadata": {},
   "source": [
    "### Inicializamos el modelo"
   ]
  },
  {
   "cell_type": "code",
   "execution_count": 104,
   "id": "dad1596f-fed7-45b7-9e65-eeef78645131",
   "metadata": {
    "tags": []
   },
   "outputs": [],
   "source": [
    "modelo_p1 = ModeloSchelling(10,10,60)"
   ]
  },
  {
   "cell_type": "markdown",
   "id": "7ff713cf-48a4-4f6d-bb3b-924ec19a5306",
   "metadata": {},
   "source": [
    "### Dibujamos los agentes en su posición inicial"
   ]
  },
  {
   "cell_type": "code",
   "execution_count": 6,
   "id": "f1721bd4-e8a6-4dec-ae37-9317e4df65a6",
   "metadata": {},
   "outputs": [],
   "source": [
    "import matplotlib.pyplot as plt\n",
    "import numpy as np"
   ]
  },
  {
   "cell_type": "code",
   "execution_count": 105,
   "id": "227aaac2-d6a8-4f71-a3ba-706d4bd7de2d",
   "metadata": {},
   "outputs": [
    {
     "data": {
      "text/plain": [
       "<matplotlib.image.AxesImage at 0x7fcaa2d2d9d0>"
      ]
     },
     "execution_count": 105,
     "metadata": {},
     "output_type": "execute_result"
    },
    {
     "data": {
      "image/png": "[encoded data removed]",
      "text/plain": [
       "<Figure size 1000x618 with 1 Axes>"
      ]
     },
     "metadata": {},
     "output_type": "display_data"
    }
   ],
   "source": [
    "matrix_grid = np.zeros((modelo_p1.grid.width, modelo_p1.grid.height))\n",
    "\n",
    "for vecino in modelo_p1.grid.coord_iter():\n",
    "    cell_content, x, y = vecino\n",
    "    # Como usaremos un mapa de color (cmap) asignaremos un color con el valor 0 y otros dos \n",
    "    # colores diferentes con los valores  0.5 y 1\n",
    "    if cell_content == None:\n",
    "        matrix_grid[x][y] = 0 \n",
    "    else:\n",
    "        if cell_content.color == \"blue\":\n",
    "            matrix_grid[x][y] = 0.5\n",
    "        if cell_content.color == \"red\":\n",
    "            matrix_grid[x][y] = 1\n",
    "\n",
    "plt.imshow(matrix_grid, cmap='tab10',interpolation='nearest')"
   ]
  },
  {
   "cell_type": "markdown",
   "id": "a9657d1d-a20e-41c5-b92b-8fcfcbd36996",
   "metadata": {},
   "source": [
    "### Iteramos el modelo unas 1000 veces"
   ]
  },
  {
   "cell_type": "code",
   "execution_count": 106,
   "id": "ef9e76d6-e638-4307-b096-ca96fc9c55f7",
   "metadata": {},
   "outputs": [],
   "source": [
    "for i in range(1000):\n",
    "    modelo_p1.step()"
   ]
  },
  {
   "cell_type": "markdown",
   "id": "80cd5fe1-40af-4124-a256-6cd851b5696f",
   "metadata": {},
   "source": [
    "### Dibujamos los agentes 1000 iteraciones después"
   ]
  },
  {
   "cell_type": "code",
   "execution_count": 107,
   "id": "a9724842-f908-459b-8dcc-22efda4715dd",
   "metadata": {},
   "outputs": [
    {
     "data": {
      "text/plain": [
       "<matplotlib.image.AxesImage at 0x7fcaa2b76160>"
      ]
     },
     "execution_count": 107,
     "metadata": {},
     "output_type": "execute_result"
    },
    {
     "data": {
      "image/png": "[encoded data removed]",
      "text/plain": [
       "<Figure size 1000x618 with 1 Axes>"
      ]
     },
     "metadata": {},
     "output_type": "display_data"
    }
   ],
   "source": [
    "matrix_grid = np.zeros((modelo_p1.grid.width, modelo_p1.grid.height))\n",
    "\n",
    "for vecino in modelo_p1.grid.coord_iter():\n",
    "    cell_content, x, y = vecino\n",
    "    # Como usaremos un mapa de color (cmap) asignaremos un color con el valor 0 y otros dos \n",
    "    # colores diferentes con los valores  0.5 y 1\n",
    "    if cell_content == None:\n",
    "        matrix_grid[x][y] = 0\n",
    "    else:\n",
    "        if cell_content.color == \"blue\":\n",
    "            matrix_grid[x][y] = 0.5\n",
    "        if cell_content.color == \"red\":\n",
    "            matrix_grid[x][y] = 1\n",
    "\n",
    "plt.imshow(matrix_grid, cmap='tab10', interpolation='nearest')"
   ]
  },
  {
   "cell_type": "markdown",
   "id": "4a80b922-6b9d-4928-9684-7a4da42786c4",
   "metadata": {},
   "source": [
    "## Obtener datos de nuestro modelo"
   ]
  },
  {
   "cell_type": "markdown",
   "id": "1249cf7d-2497-426f-b233-bc026b43ec72",
   "metadata": {},
   "source": [
    "Como anteriormente habíamos definido las clases `AgenteSchelling` y `ModeloSchelling`, el atributo _tolerancia_ era parte del agente sin embargo es un atributo del modelo. Así que en las siguientes redefiniciones ya forma parte de los atributos del modelo."
   ]
  },
  {
   "cell_type": "code",
   "execution_count": 33,
   "id": "40633734-f2fd-4d79-93bf-020c8dd5b5a0",
   "metadata": {},
   "outputs": [],
   "source": [
    "class AgenteSchelling(Agent):\n",
    "    \"\"\"\n",
    "    Agente del modelo de Schelling\n",
    "    Esta clase implementa un agente para el modelo de segregación de Schelling en una malla discreta.\n",
    "    Atributos:\n",
    "        tipo/color: \"rojo\" \"azul\". Str.\n",
    "        pos: posición del agente. Tupla de enteros.\n",
    "        modelo: Nuestro clase modelo. Modelo mesa.\n",
    "    \"\"\"\n",
    "    def __init__(self,unique_id, model,color,pos):\n",
    "        # Aqui van los atributos del agente\n",
    "        super().__init__(unique_id,model)\n",
    "        self.color = color\n",
    "        self.pos = pos\n",
    "        self.model  = model\n",
    "        \n",
    "    def step(self):\n",
    "        #Buscar si hay algún otro agente en su vecindad cercana. Para el modelo de segregación utilizamos una vecindad de Moore\n",
    "        vecinos = self.model.grid.get_neighbors(self.pos, moore=True, include_center=False)\n",
    "        \n",
    "        # Contamos cuantos agentes vecinos son similares a nuestro agente\n",
    "        vecindad = 0\n",
    "        for i in vecinos:\n",
    "            if i.color == self.color:\n",
    "                vecindad += 1 # vecindad = vecindad + 1\n",
    "                \n",
    "        vecindad /= 8 # vecindad =  vecindad / 8         \n",
    "        \n",
    "        # Si el porcentaje de vecinos es menor a cierto porcentaje de tolerancia,\n",
    "        # el agente se mueve a un lugar vacío\n",
    "        if vecindad < self.model.tolerancia:\n",
    "            self.model.grid.move_to_empty(self)\n",
    "        "
   ]
  },
  {
   "cell_type": "code",
   "execution_count": 34,
   "id": "e82d1cc0-a5a8-4164-aaf7-edc9b66a1723",
   "metadata": {},
   "outputs": [],
   "source": [
    "class ModeloSchelling(Model):\n",
    "    \"\"\"\n",
    "    Modelo de Schelling,\n",
    "    Esta clase implementa el modelo de segregación de Schelling en una malla discreta.\n",
    "\n",
    "    ancho: ancho de la malla. Int\n",
    "    largo: largo de la malla. Int\n",
    "    cantidad: número de agentes que colocaremos en la malla. Int\n",
    "    tolerancia: porcentaje de vecinos al menos iguales al del agente. Float.\n",
    "    \"\"\"\n",
    "    def __init__(self,ancho,largo, cantidad,tolerancia):\n",
    "        self.ancho = ancho\n",
    "        self.largo = largo\n",
    "        # Activamos el orden aleatorio\n",
    "        self.schedule = RandomActivation(self)\n",
    "        self.grid = SingleGrid(ancho, largo, torus= True)\n",
    "        self.cantidad = cantidad\n",
    "        self.tolerancia = 0.4\n",
    "        colores = [\"red\", \"blue\"]\n",
    "        \n",
    "        for i in range(cantidad):\n",
    "            color = self.random.choice(colores)\n",
    "            pos = self.grid.find_empty()\n",
    "            agente = AgenteSchelling(i,self, color,pos)\n",
    "            # Después de crear el agente tenemos que colocarlo en la malla\n",
    "            self.grid.place_agent(agente, pos)\n",
    "            # De igual forma una vez creado el agente tenemos que 'agendarlo'\n",
    "            self.schedule.add(agente)\n",
    "    def step(self):\n",
    "        # Avanza un paso en el tiempo.\n",
    "        self.schedule.step()"
   ]
  },
  {
   "cell_type": "markdown",
   "id": "b427cd1c-6f53-4f94-a522-dc620a107114",
   "metadata": {},
   "source": [
    "### Definimos una función para saber en promedio cuantos vecinos similares estan alrededor de cada agente"
   ]
  },
  {
   "cell_type": "code",
   "execution_count": null,
   "id": "01d10bc0-01e7-4682-b25f-0410d4aa9719",
   "metadata": {},
   "outputs": [],
   "source": [
    "#Porcentaje de vecinos que son iguales a nuestro agente()\n",
    "def simi(model):\n",
    "    promedio_similaridad = []\n",
    "    for agente in model.schedule.agents:\n",
    "        vecinos = model.grid.get_neighbors(agente.pos, moore=True, include_center=False)\n",
    "        similaridad = 0\n",
    "\n",
    "        for vecino in vecinos:\n",
    "            if vecino.color == agente.color:\n",
    "                similaridad += 1\n",
    "        similaridad /= 8\n",
    "        promedio_similaridad.append(similaridad)\n",
    "\n",
    "    promedio_similaridad = np.array(promedio_similaridad)\n",
    "\n",
    "    return promedio_similaridad.mean()\n"
   ]
  },
  {
   "cell_type": "code",
   "execution_count": 38,
   "id": "7039627a-cff8-4650-a4ad-7c015ea0e005",
   "metadata": {},
   "outputs": [],
   "source": [
    "modelo_test = ModeloSchelling(10,10,60,0.4)\n",
    "for i in range(100):\n",
    "    modelo_test.step()\n",
    "    simi(modelo_test)"
   ]
  },
  {
   "cell_type": "markdown",
   "id": "5e9b73a1-143d-4baa-8197-27e1643b857d",
   "metadata": {},
   "source": [
    "### El recolector de datos\n"
   ]
  },
  {
   "cell_type": "code",
   "execution_count": 2,
   "id": "beb42080-f13e-41c7-8e68-7481d7bb06ff",
   "metadata": {},
   "outputs": [],
   "source": [
    "from mesa.datacollection import DataCollector"
   ]
  },
  {
   "cell_type": "code",
   "execution_count": 39,
   "id": "d2478169-0ce3-4c6d-a50b-a43ba8521af5",
   "metadata": {},
   "outputs": [],
   "source": [
    "class ModeloSchelling(Model):\n",
    "    \"\"\"\n",
    "    Modelo de Schelling,\n",
    "    Esta clase implementa el modelo de segregación de Schelling en una malla discreta.\n",
    "\n",
    "    ancho: ancho de la malla. Int\n",
    "    largo: largo de la malla. Int\n",
    "    cantidad: número de agentes que colocaremos en la malla. Int\n",
    "    tolerancia: porcentaje de vecinos al menos iguales al del agente. Float.\n",
    "    \"\"\"\n",
    "    def __init__(self,ancho,largo, cantidad,tolerancia):\n",
    "        self.ancho = ancho\n",
    "        self.largo = largo\n",
    "        # Activamos el orden aleatorio\n",
    "        self.schedule = RandomActivation(self)\n",
    "        self.grid = SingleGrid(ancho, largo, torus= True)\n",
    "        self.cantidad = cantidad\n",
    "        self.tolerancia = 0.4\n",
    "        colores = [\"red\", \"blue\"]\n",
    "        \n",
    "        for i in range(cantidad):\n",
    "            color = self.random.choice(colores)\n",
    "            pos = self.grid.find_empty()\n",
    "            agente = AgenteSchelling(i,self, color,pos)\n",
    "            # Después de crear el agente tenemos que colocarlo en la malla\n",
    "            self.grid.place_agent(agente, pos)\n",
    "            # De igual forma una vez creado el agente tenemos que 'agendarlo'\n",
    "            self.schedule.add(agente)\n",
    "            \n",
    "        # Recolectamos los datos de la similiaridad de vecinos\n",
    "        self.datacollector = DataCollector(model_reporters = {'Similitud':simi})\n",
    "\n",
    "    def step(self):\n",
    "        # En cada paso recolectamos hacemos la recolección de datos\n",
    "        self.datacollector.collect(self)\n",
    "        # Avanza un paso en el tiempo.\n",
    "        self.schedule.step()"
   ]
  },
  {
   "cell_type": "markdown",
   "id": "f2794dbd-8da0-44e7-a492-dcee910f36f3",
   "metadata": {},
   "source": [
    "### Inicializamos el modelo y lo corremos 100 veces"
   ]
  },
  {
   "cell_type": "markdown",
   "id": "235fb5d7-3d65-4ffc-9d88-3ddf31dd81e1",
   "metadata": {},
   "source": [
    "Tenemos una malla de 10x10 con 60 agentes colocados al azar y para que se quede en esa posición al menos 40% de sus vecinos deben ser del mismo tipo"
   ]
  },
  {
   "cell_type": "code",
   "execution_count": 82,
   "id": "d4790386-6a23-47fb-b7dc-bc66791a37b4",
   "metadata": {},
   "outputs": [],
   "source": [
    "modelo_test = ModeloSchelling(10,10,60,0.4)\n",
    "for i in range(100):\n",
    "    modelo_test.step()"
   ]
  },
  {
   "cell_type": "code",
   "execution_count": 83,
   "id": "9280d9dc-81ed-4146-9eb5-5fd8df70515e",
   "metadata": {},
   "outputs": [],
   "source": [
    "tabla_datos_modelo = modelo_test.datacollector.get_model_vars_dataframe()"
   ]
  },
  {
   "cell_type": "code",
   "execution_count": 79,
   "id": "3c43a250-30ba-46c2-adcd-defb314d655e",
   "metadata": {},
   "outputs": [
    {
     "data": {
      "text/plain": [
       "Text(0, 0.5, 'Similaridad del sistema')"
      ]
     },
     "execution_count": 79,
     "metadata": {},
     "output_type": "execute_result"
    },
    {
     "data": {
      "image/png": "[encoded data removed]",
      "text/plain": [
       "<Figure size 1000x618 with 1 Axes>"
      ]
     },
     "metadata": {},
     "output_type": "display_data"
    }
   ],
   "source": [
    "plt.plot(tabla_datos_modelo)\n",
    "plt.xlabel('Número de pasos')\n",
    "plt.ylabel('Similaridad del sistema')"
   ]
  },
  {
   "cell_type": "code",
   "execution_count": 85,
   "id": "dd1eac18-df9f-437f-aeeb-e02ece5f6a94",
   "metadata": {},
   "outputs": [
    {
     "data": {
      "text/plain": [
       "Text(0, 0.5, 'Similaridad promedio')"
      ]
     },
     "execution_count": 85,
     "metadata": {},
     "output_type": "execute_result"
    },
    {
     "data": {
      "image/png": "[encoded data removed]",
      "text/plain": [
       "<Figure size 1000x618 with 1 Axes>"
      ]
     },
     "metadata": {},
     "output_type": "display_data"
    }
   ],
   "source": [
    "plt.plot(tabla_datos_modelo)\n",
    "plt.xlabel('Número de pasos')\n",
    "plt.ylabel('Similaridad promedio')"
   ]
  },
  {
   "cell_type": "markdown",
   "id": "8f15b9ab-8baf-44bd-a538-42447fba546a",
   "metadata": {},
   "source": [
    "## Batch Runner"
   ]
  },
  {
   "cell_type": "markdown",
   "id": "8dc7adde-992b-485f-bb85-4f7c92ef1ce7",
   "metadata": {},
   "source": [
    "El batch runner nos facilita realizar una exploración estadística de parámetros de nuestro modelo. Para poder activarlo necesitamos escribir el atributo `self.running = True` dentro del nuestra clase modelo."
   ]
  },
  {
   "cell_type": "code",
   "execution_count": 87,
   "id": "f34ae22c-3b92-4fde-9a35-7df64b6cbc61",
   "metadata": {},
   "outputs": [],
   "source": [
    "from mesa.batchrunner import BatchRunner"
   ]
  },
  {
   "cell_type": "code",
   "execution_count": 57,
   "id": "e3f38423-fc27-4ff6-bda0-61d84d016d47",
   "metadata": {},
   "outputs": [],
   "source": [
    "class ModeloSchelling(Model):\n",
    "    \"\"\"\n",
    "    Modelo de Schelling,\n",
    "    Esta clase implementa el modelo de segregación de Schelling en una malla discreta.\n",
    "\n",
    "    ancho: ancho de la malla. Int\n",
    "    largo: largo de la malla. Int\n",
    "    cantidad: número de agentes que colocaremos en la malla. Int\n",
    "    tolerancia: porcentaje de vecinos al menos iguales al del agente. Float.\n",
    "    \"\"\"\n",
    "    def __init__(self,ancho,largo, cantidad,tolerancia):\n",
    "        self.ancho = ancho\n",
    "        self.largo = largo\n",
    "        # Activamos el orden aleatorio\n",
    "        self.schedule = RandomActivation(self)\n",
    "        self.grid = SingleGrid(ancho, largo, torus= True)\n",
    "        self.cantidad = cantidad\n",
    "        self.tolerancia = 0.4\n",
    "        colores = [\"red\", \"blue\"]\n",
    "        # parametro necesario para correr el batch runner y la visualización\n",
    "        self.running = True\n",
    "        \n",
    "        for i in range(cantidad):\n",
    "            color = self.random.choice(colores)\n",
    "            pos = self.grid.find_empty()\n",
    "            agente = AgenteSchelling(i,self, color,pos)\n",
    "            # Después de crear el agente tenemos que colocarlo en la malla\n",
    "            self.grid.place_agent(agente, pos)\n",
    "            # De igual forma una vez creado el agente tenemos que 'agendarlo'\n",
    "            self.schedule.add(agente)\n",
    "\n",
    "        self.datacollector = DataCollector(model_reporters = {'Similitud':simi})\n",
    "\n",
    "    def step(self):\n",
    "        # Avanza un paso en el tiempo.\n",
    "        self.datacollector.collect(self)\n",
    "        self.schedule.step()"
   ]
  },
  {
   "cell_type": "markdown",
   "id": "3bd493a0-ee12-4bf8-bc98-cda28ba40722",
   "metadata": {},
   "source": [
    "Usamos un diccionario para los parámetros fijos y otro para los parámetros variables"
   ]
  },
  {
   "cell_type": "code",
   "execution_count": 58,
   "id": "92b74581-695f-4fc6-a038-67e059d98429",
   "metadata": {},
   "outputs": [],
   "source": [
    "fixed_params = {'ancho':10,'largo':10, 'cantidad': 60}\n",
    "variable_params  = {'tolerancia':np.linspace(0.3,0.8,num=20)}"
   ]
  },
  {
   "cell_type": "markdown",
   "id": "f9bf0c32-6ec8-4ce2-ba7a-48aa238a5008",
   "metadata": {},
   "source": [
    "Definimos la especificaciones del *batch run*. `max_steps` es el número de pasos que correrá el modelo dados unos parámetros iniciales, en este caso serán `100` pasos. `iterations` es. Dados los parámetros que hemos definido, tenemos que en todas las simulaciones el ancho y el largo de la malla de 10x10 con 60 agentes desde siempre. "
   ]
  },
  {
   "cell_type": "code",
   "execution_count": 75,
   "id": "fc4fb37b-d0d2-42bb-b91a-518c7363655b",
   "metadata": {},
   "outputs": [],
   "source": [
    "batch_run = BatchRunner(\n",
    "    ModeloSchelling,\n",
    "    variable_params,\n",
    "    fixed_params,\n",
    "    iterations=10,\n",
    "    max_steps=100,\n",
    "    model_reporters={\"Similaridad\": simi}\n",
    ")"
   ]
  },
  {
   "cell_type": "code",
   "execution_count": 88,
   "id": "98e50785-d1a4-4573-aee9-37ba88051c22",
   "metadata": {},
   "outputs": [
    {
     "name": "stderr",
     "output_type": "stream",
     "text": [
      "200it [00:38,  5.25it/s]\n"
     ]
    }
   ],
   "source": [
    "# Ejecutamos el batch run\n",
    "batch_run.run_all()"
   ]
  },
  {
   "cell_type": "code",
   "execution_count": 89,
   "id": "148525bb-13c7-45c4-9418-193a3d4f2d16",
   "metadata": {},
   "outputs": [],
   "source": [
    "# obtenemos los datos de la propiedad del que medimos de nuestro modelo\n",
    "datos  = batch_run.get_model_vars_dataframe()"
   ]
  },
  {
   "cell_type": "code",
   "execution_count": 93,
   "id": "dbacce66-a39e-400d-947c-544a9ca45bba",
   "metadata": {},
   "outputs": [
    {
     "data": {
      "text/html": [
       "<div>\n",
       "<style scoped>\n",
       "    .dataframe tbody tr th:only-of-type {\n",
       "        vertical-align: middle;\n",
       "    }\n",
       "\n",
       "    .dataframe tbody tr th {\n",
       "        vertical-align: top;\n",
       "    }\n",
       "\n",
       "    .dataframe thead th {\n",
       "        text-align: right;\n",
       "    }\n",
       "</style>\n",
       "<table border=\"1\" class=\"dataframe\">\n",
       "  <thead>\n",
       "    <tr style=\"text-align: right;\">\n",
       "      <th></th>\n",
       "      <th>tolerancia</th>\n",
       "      <th>Run</th>\n",
       "      <th>Similaridad</th>\n",
       "      <th>ancho</th>\n",
       "      <th>largo</th>\n",
       "      <th>cantidad</th>\n",
       "    </tr>\n",
       "  </thead>\n",
       "  <tbody>\n",
       "    <tr>\n",
       "      <th>0</th>\n",
       "      <td>0.3</td>\n",
       "      <td>0</td>\n",
       "      <td>0.679167</td>\n",
       "      <td>10</td>\n",
       "      <td>10</td>\n",
       "      <td>60</td>\n",
       "    </tr>\n",
       "    <tr>\n",
       "      <th>1</th>\n",
       "      <td>0.3</td>\n",
       "      <td>1</td>\n",
       "      <td>0.650000</td>\n",
       "      <td>10</td>\n",
       "      <td>10</td>\n",
       "      <td>60</td>\n",
       "    </tr>\n",
       "    <tr>\n",
       "      <th>2</th>\n",
       "      <td>0.3</td>\n",
       "      <td>2</td>\n",
       "      <td>0.691667</td>\n",
       "      <td>10</td>\n",
       "      <td>10</td>\n",
       "      <td>60</td>\n",
       "    </tr>\n",
       "    <tr>\n",
       "      <th>3</th>\n",
       "      <td>0.3</td>\n",
       "      <td>3</td>\n",
       "      <td>0.720833</td>\n",
       "      <td>10</td>\n",
       "      <td>10</td>\n",
       "      <td>60</td>\n",
       "    </tr>\n",
       "    <tr>\n",
       "      <th>4</th>\n",
       "      <td>0.3</td>\n",
       "      <td>4</td>\n",
       "      <td>0.704167</td>\n",
       "      <td>10</td>\n",
       "      <td>10</td>\n",
       "      <td>60</td>\n",
       "    </tr>\n",
       "    <tr>\n",
       "      <th>...</th>\n",
       "      <td>...</td>\n",
       "      <td>...</td>\n",
       "      <td>...</td>\n",
       "      <td>...</td>\n",
       "      <td>...</td>\n",
       "      <td>...</td>\n",
       "    </tr>\n",
       "    <tr>\n",
       "      <th>195</th>\n",
       "      <td>0.8</td>\n",
       "      <td>195</td>\n",
       "      <td>0.704167</td>\n",
       "      <td>10</td>\n",
       "      <td>10</td>\n",
       "      <td>60</td>\n",
       "    </tr>\n",
       "    <tr>\n",
       "      <th>196</th>\n",
       "      <td>0.8</td>\n",
       "      <td>196</td>\n",
       "      <td>0.729167</td>\n",
       "      <td>10</td>\n",
       "      <td>10</td>\n",
       "      <td>60</td>\n",
       "    </tr>\n",
       "    <tr>\n",
       "      <th>197</th>\n",
       "      <td>0.8</td>\n",
       "      <td>197</td>\n",
       "      <td>0.700000</td>\n",
       "      <td>10</td>\n",
       "      <td>10</td>\n",
       "      <td>60</td>\n",
       "    </tr>\n",
       "    <tr>\n",
       "      <th>198</th>\n",
       "      <td>0.8</td>\n",
       "      <td>198</td>\n",
       "      <td>0.725000</td>\n",
       "      <td>10</td>\n",
       "      <td>10</td>\n",
       "      <td>60</td>\n",
       "    </tr>\n",
       "    <tr>\n",
       "      <th>199</th>\n",
       "      <td>0.8</td>\n",
       "      <td>199</td>\n",
       "      <td>0.725000</td>\n",
       "      <td>10</td>\n",
       "      <td>10</td>\n",
       "      <td>60</td>\n",
       "    </tr>\n",
       "  </tbody>\n",
       "</table>\n",
       "<p>200 rows × 6 columns</p>\n",
       "</div>"
      ],
      "text/plain": [
       "     tolerancia  Run  Similaridad  ancho  largo  cantidad\n",
       "0           0.3    0     0.679167     10     10        60\n",
       "1           0.3    1     0.650000     10     10        60\n",
       "2           0.3    2     0.691667     10     10        60\n",
       "3           0.3    3     0.720833     10     10        60\n",
       "4           0.3    4     0.704167     10     10        60\n",
       "..          ...  ...          ...    ...    ...       ...\n",
       "195         0.8  195     0.704167     10     10        60\n",
       "196         0.8  196     0.729167     10     10        60\n",
       "197         0.8  197     0.700000     10     10        60\n",
       "198         0.8  198     0.725000     10     10        60\n",
       "199         0.8  199     0.725000     10     10        60\n",
       "\n",
       "[200 rows x 6 columns]"
      ]
     },
     "execution_count": 93,
     "metadata": {},
     "output_type": "execute_result"
    }
   ],
   "source": [
    "datos"
   ]
  },
  {
   "cell_type": "markdown",
   "id": "216b5c7a-8598-4ff7-ba28-2195bdfa08dd",
   "metadata": {},
   "source": [
    "Cada punto en la gráfica es el resultado final de la _similaridad_ después de una corrida de 100 pasos. Para cada valor de _tolerancia_ tenemos 10 puntos."
   ]
  },
  {
   "cell_type": "code",
   "execution_count": 86,
   "id": "85e0eae6-4ab0-4b63-97a6-f77f142c5ad0",
   "metadata": {},
   "outputs": [
    {
     "data": {
      "text/plain": [
       "(0.0, 1.0)"
      ]
     },
     "execution_count": 86,
     "metadata": {},
     "output_type": "execute_result"
    },
    {
     "data": {
      "image/png": "[encoded data removed]",
      "text/plain": [
       "<Figure size 1000x618 with 1 Axes>"
      ]
     },
     "metadata": {},
     "output_type": "display_data"
    }
   ],
   "source": [
    "plt.plot(datos.tolerancia, datos.Similaridad,'bo')\n",
    "plt.xlabel('Tolerancia')\n",
    "plt.ylabel('Similaridad')\n",
    "plt.ylim(0,1)"
   ]
  },
  {
   "cell_type": "markdown",
   "id": "7537429b-c2d4-4f6c-932f-efa0e5d980e9",
   "metadata": {},
   "source": [
    "## Visualización"
   ]
  },
  {
   "cell_type": "markdown",
   "id": "ab5e0d23-905c-40ca-9bbc-990191799c5d",
   "metadata": {},
   "source": [
    "Para la visualización se necesita colocar la clase modelo y agente en un archivo separado, por ejemplo `ModeloSegregacion.py`, del archivo para la visualización, por ejemplo `ModeloSegregacion_Viz.py`. Para lanzar la visualización se ejecuta el archivo la visualización, `python ModeloSegregacion_Viz.py` esto abrirá una ventana dentro de nuestro navegador predeterminado."
   ]
  },
  {
   "cell_type": "code",
   "execution_count": null,
   "id": "c5343582-d3a3-4194-8adf-b838ce4b8fe1",
   "metadata": {},
   "outputs": [],
   "source": [
    "from mesa.visualization.modules import CanvasGrid, ChartModuledule\n",
    "from mesa.visualization.ModularVisualization import ModularServer\n",
    "\n",
    "# Separamos la clase ModeloSchelling y AgenteSchelling en archivo diferente al de la visualización\n",
    "from ModeloSegregacion import ModeloSchelling\n",
    "\n",
    "# La función agent_portrayal toma un objeto agente y regresa un diccionario con las propiedades de la forma \n",
    "# en la que será representado en la visualización\n",
    "def agent_portrayal(agent):\n",
    "    portrayal = {\"Shape\": \"rect\",\n",
    "                 \"Color\": agent.color,\n",
    "                 \"Filled\": \"true\",\n",
    "                 \"Layer\": 0,\n",
    "                 \"w\": 1,\n",
    "                 \"h\": 1}\n",
    "    return portrayal\n",
    "\n",
    "# Definimos una malla de 30x30 con una resolución de 500x500 pixeles\n",
    "grid = CanvasGrid(agent_portrayal, 30, 30, 500, 500)\n",
    "\n",
    "# Agregamos un gráfico que va monitoreandoque va actualizándose paso a paso. En la \n",
    "chart = ChartModule([{\"Label\": \"Similaridad\",\n",
    "                      \"Color\": \"Black\"}],\n",
    "                    data_collector_name='datacollector')\n",
    "\n",
    "# Cargamos tanto la malla como el gráfico dentro de ModularServer además especificamos\n",
    "# los parámetros que utilizaremos en la simulación\n",
    "server = ModularServer(ModeloSchelling,\n",
    "                       [grid,chart],\n",
    "                       \"Modelo de segregacion\",\n",
    "                       {\"density\":0.5, \"umbral\":0.4, \"width\":30, \"height\":30})\n",
    "\n",
    "server.port = 8521 # The default\n",
    "server.launch() "
   ]
  }
 ],
 "metadata": {
  "kernelspec": {
   "display_name": "Python 3 (ipykernel)",
   "language": "python",
   "name": "python3"
  },
  "language_info": {
   "codemirror_mode": {
    "name": "ipython",
    "version": 3
   },
   "file_extension": ".py",
   "mimetype": "text/x-python",
   "name": "python",
   "nbconvert_exporter": "python",
   "pygments_lexer": "ipython3",
   "version": "3.9.6"
  }
 },
 "nbformat": 4,
 "nbformat_minor": 5
}
